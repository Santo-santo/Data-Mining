{
  "nbformat": 4,
  "nbformat_minor": 0,
  "metadata": {
    "colab": {
      "name": " DECISIONTREE.ipynb",
      "provenance": [],
      "authorship_tag": "ABX9TyP5IEjQ9lem6E15UsclvneT",
      "include_colab_link": true
    },
    "kernelspec": {
      "name": "python3",
      "display_name": "Python 3"
    },
    "language_info": {
      "name": "python"
    }
  },
  "cells": [
    {
      "cell_type": "markdown",
      "metadata": {
        "id": "view-in-github",
        "colab_type": "text"
      },
      "source": [
        "<a href=\"https://colab.research.google.com/github/Santo-santo/Data-Mining/blob/main/DECISIONTREE.ipynb\" target=\"_parent\"><img src=\"https://colab.research.google.com/assets/colab-badge.svg\" alt=\"Open In Colab\"/></a>"
      ]
    },
    {
      "cell_type": "code",
      "metadata": {
        "id": "UgCMtdUHKdQu"
      },
      "source": [
        "import numpy as np\n",
        "import pandas as pd\n",
        "from sklearn import tree"
      ],
      "execution_count": 1,
      "outputs": []
    },
    {
      "cell_type": "code",
      "metadata": {
        "id": "85M6mTCHK-0s"
      },
      "source": [
        "irisDataset = pd.read_csv('Iris.csv', delimiter=',', header=0)"
      ],
      "execution_count": 2,
      "outputs": []
    },
    {
      "cell_type": "code",
      "metadata": {
        "id": "yyIMxII4LRzM"
      },
      "source": [
        "irisDataset['Species'] = pd.factorize(irisDataset.Species)[0]"
      ],
      "execution_count": 3,
      "outputs": []
    },
    {
      "cell_type": "code",
      "metadata": {
        "id": "RWHinfsxLfrC"
      },
      "source": [
        "irisDataset = irisDataset.drop(labels=\"Id\", axis=1)"
      ],
      "execution_count": 4,
      "outputs": []
    },
    {
      "cell_type": "code",
      "metadata": {
        "id": "0LxazsGPLxqg"
      },
      "source": [
        "irisDataset = irisDataset.to_numpy()"
      ],
      "execution_count": 5,
      "outputs": []
    },
    {
      "cell_type": "code",
      "metadata": {
        "id": "V-Wpg8EnMYKZ"
      },
      "source": [
        "dataTraining = np.concatenate((irisDataset[0:40,:], irisDataset[50:90,:]), axis=0)\n",
        "dataTesting = np.concatenate((irisDataset[40:50,:], irisDataset[90:100,:]), axis=0)"
      ],
      "execution_count": 8,
      "outputs": []
    },
    {
      "cell_type": "code",
      "metadata": {
        "id": "p5QtCPAdNBgU"
      },
      "source": [
        "inputTraining = dataTraining[:,0:4]\n",
        "inputTesting = dataTesting[:,0:4]\n",
        "labelTraining = dataTraining[:,4]\n",
        "labelTesting = dataTesting[:,4]"
      ],
      "execution_count": 9,
      "outputs": []
    },
    {
      "cell_type": "code",
      "metadata": {
        "id": "lbFO1DdbOEJ0"
      },
      "source": [
        "model = tree.DecisionTreeClassifier()\n",
        "model = model.fit(inputTraining, labelTraining)"
      ],
      "execution_count": 10,
      "outputs": []
    },
    {
      "cell_type": "code",
      "metadata": {
        "colab": {
          "base_uri": "https://localhost:8080/"
        },
        "id": "h8zKkPxUOUVe",
        "outputId": "f46446b0-e1f1-487d-90d2-a69c49715ecb"
      },
      "source": [
        "hasilPrediksi = model.predict(inputTesting)\n",
        "print(\"Label Sebenarnya:\", labelTesting)\n",
        "print(\"Hasil Prediksi: \", hasilPrediksi)"
      ],
      "execution_count": 12,
      "outputs": [
        {
          "output_type": "stream",
          "text": [
            "Label Sebenarnya: [0. 0. 0. 0. 0. 0. 0. 0. 0. 0. 1. 1. 1. 1. 1. 1. 1. 1. 1. 1.]\n",
            "Hasil Prediksi:  [0. 0. 0. 0. 0. 0. 0. 0. 0. 0. 1. 1. 1. 1. 1. 1. 1. 1. 1. 1.]\n"
          ],
          "name": "stdout"
        }
      ]
    },
    {
      "cell_type": "code",
      "metadata": {
        "colab": {
          "base_uri": "https://localhost:8080/"
        },
        "id": "KmS4BhEAPDYZ",
        "outputId": "6f460ca2-a5e4-4b63-8566-0a3102cf4f9c"
      },
      "source": [
        "prediksiBenar = (hasilPrediksi == labelTesting).sum()\n",
        "prediksiSalah = (hasilPrediksi != labelTesting).sum()\n",
        "print(\"Prediksi Benar : \", prediksiBenar, \"data\")\n",
        "print(\"Prediksi Salah : \", prediksiSalah, \"data\")\n",
        "print(\"Akurasi : \", prediksiBenar/(prediksiBenar+prediksiSalah)* 100, \"%\")"
      ],
      "execution_count": 13,
      "outputs": [
        {
          "output_type": "stream",
          "text": [
            "Prediksi Benar :  20 data\n",
            "Prediksi Salah :  0 data\n",
            "Akurasi :  100.0 %\n"
          ],
          "name": "stdout"
        }
      ]
    }
  ]
}